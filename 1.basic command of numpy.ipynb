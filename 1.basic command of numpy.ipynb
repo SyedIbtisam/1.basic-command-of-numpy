{
 "cells": [
  {
   "cell_type": "code",
   "execution_count": 1,
   "id": "d64792d1",
   "metadata": {},
   "outputs": [
    {
     "name": "stdout",
     "output_type": "stream",
     "text": [
      "[1 2 3]\n"
     ]
    }
   ],
   "source": [
    "import numpy as np\n",
    "\n",
    "arr1 = np.array([1,2,3])\n",
    "\n",
    "print(arr1)"
   ]
  },
  {
   "cell_type": "code",
   "execution_count": 2,
   "id": "9cb64c94",
   "metadata": {},
   "outputs": [
    {
     "name": "stdout",
     "output_type": "stream",
     "text": [
      "<class 'numpy.ndarray'>\n"
     ]
    }
   ],
   "source": [
    "print(type(arr1))"
   ]
  },
  {
   "cell_type": "code",
   "execution_count": 3,
   "id": "c2ff0a56",
   "metadata": {},
   "outputs": [
    {
     "name": "stdout",
     "output_type": "stream",
     "text": [
      "(3,)\n"
     ]
    }
   ],
   "source": [
    "print(arr1.shape)"
   ]
  },
  {
   "cell_type": "code",
   "execution_count": 4,
   "id": "e7b4650c",
   "metadata": {},
   "outputs": [
    {
     "name": "stdout",
     "output_type": "stream",
     "text": [
      "1\n"
     ]
    }
   ],
   "source": [
    "print(arr1[0])"
   ]
  },
  {
   "cell_type": "code",
   "execution_count": 5,
   "id": "c4994a76",
   "metadata": {},
   "outputs": [
    {
     "name": "stdout",
     "output_type": "stream",
     "text": [
      "2\n"
     ]
    }
   ],
   "source": [
    "print(arr1[1])"
   ]
  },
  {
   "cell_type": "code",
   "execution_count": 6,
   "id": "0d7932a4",
   "metadata": {},
   "outputs": [
    {
     "name": "stdout",
     "output_type": "stream",
     "text": [
      "3\n"
     ]
    }
   ],
   "source": [
    "print(arr1[2])"
   ]
  },
  {
   "cell_type": "code",
   "execution_count": 7,
   "id": "af64e0f8",
   "metadata": {},
   "outputs": [
    {
     "data": {
      "text/plain": [
       "array([1, 2, 5])"
      ]
     },
     "execution_count": 7,
     "metadata": {},
     "output_type": "execute_result"
    }
   ],
   "source": [
    "arr1[2]=5\n",
    "arr1"
   ]
  },
  {
   "cell_type": "code",
   "execution_count": 8,
   "id": "35e941c6",
   "metadata": {},
   "outputs": [
    {
     "data": {
      "text/plain": [
       "array([[1, 2, 3],\n",
       "       [3, 4, 5]])"
      ]
     },
     "execution_count": 8,
     "metadata": {},
     "output_type": "execute_result"
    }
   ],
   "source": [
    "arr2 = np.array([[1,2,3],[3,4,5]])\n",
    "arr2"
   ]
  },
  {
   "cell_type": "code",
   "execution_count": 9,
   "id": "d8c7ff18",
   "metadata": {},
   "outputs": [
    {
     "data": {
      "text/plain": [
       "3"
      ]
     },
     "execution_count": 9,
     "metadata": {},
     "output_type": "execute_result"
    }
   ],
   "source": [
    "arr2[0][2]   #line [1] of array indicates 0 (1,2,3) and line [2] indicates 1 (3,4,5)\n",
    "             #so, here it means in line 0 the 2nd part which is 3"
   ]
  },
  {
   "cell_type": "code",
   "execution_count": 10,
   "id": "4e8a6a8c",
   "metadata": {},
   "outputs": [
    {
     "name": "stdout",
     "output_type": "stream",
     "text": [
      "(2, 3)\n"
     ]
    }
   ],
   "source": [
    "print(arr2.shape) #here its mean arry is 2 dimentional and each dimention contain 3 part"
   ]
  },
  {
   "cell_type": "code",
   "execution_count": 11,
   "id": "3787adf4",
   "metadata": {},
   "outputs": [
    {
     "data": {
      "text/plain": [
       "5"
      ]
     },
     "execution_count": 11,
     "metadata": {},
     "output_type": "execute_result"
    }
   ],
   "source": [
    "arr2[1,2]"
   ]
  },
  {
   "cell_type": "code",
   "execution_count": 12,
   "id": "4ed91aba",
   "metadata": {},
   "outputs": [
    {
     "name": "stdout",
     "output_type": "stream",
     "text": [
      "(2, 3)\n"
     ]
    }
   ],
   "source": [
    "print(arr2.shape) #here its mean we have 2 rows and each rows has 3 element"
   ]
  },
  {
   "cell_type": "code",
   "execution_count": 13,
   "id": "8693870d",
   "metadata": {},
   "outputs": [
    {
     "data": {
      "text/plain": [
       "5"
      ]
     },
     "execution_count": 13,
     "metadata": {},
     "output_type": "execute_result"
    }
   ],
   "source": [
    "arr2[1,2]"
   ]
  },
  {
   "cell_type": "code",
   "execution_count": 14,
   "id": "844af84f",
   "metadata": {},
   "outputs": [
    {
     "data": {
      "text/plain": [
       "5"
      ]
     },
     "execution_count": 14,
     "metadata": {},
     "output_type": "execute_result"
    }
   ],
   "source": [
    "arr2[1][-1] #here (5 is -1), (4 is -2) & (3 is -3)"
   ]
  },
  {
   "cell_type": "code",
   "execution_count": 15,
   "id": "22ee2a4d",
   "metadata": {},
   "outputs": [
    {
     "data": {
      "text/plain": [
       "4"
      ]
     },
     "execution_count": 15,
     "metadata": {},
     "output_type": "execute_result"
    }
   ],
   "source": [
    "arr2[1][-2]"
   ]
  },
  {
   "cell_type": "markdown",
   "id": "47faa3ad",
   "metadata": {},
   "source": [
    "                             CHAPTER 2"
   ]
  },
  {
   "cell_type": "code",
   "execution_count": 16,
   "id": "fb10198e",
   "metadata": {},
   "outputs": [
    {
     "data": {
      "text/plain": [
       "array(['China', 'India', 'USA', 'Mexico'], dtype='<U6')"
      ]
     },
     "execution_count": 16,
     "metadata": {},
     "output_type": "execute_result"
    }
   ],
   "source": [
    "arrS = np.array(['China','India','USA','Mexico'])\n",
    "arrS"
   ]
  },
  {
   "cell_type": "markdown",
   "id": "f2caa518",
   "metadata": {},
   "source": [
    "                            CHAPTER 3"
   ]
  },
  {
   "cell_type": "code",
   "execution_count": 17,
   "id": "6fe6a7cc",
   "metadata": {},
   "outputs": [
    {
     "data": {
      "text/plain": [
       "array([ 0,  2,  4,  6,  8, 10, 12, 14, 16, 18])"
      ]
     },
     "execution_count": 17,
     "metadata": {},
     "output_type": "execute_result"
    }
   ],
   "source": [
    "arrR = np.arange(0,20,2) #here, it means starting from 0 upto 20 (divided by 2 set)\n",
    "arrR"
   ]
  },
  {
   "cell_type": "markdown",
   "id": "6d7ac9d3",
   "metadata": {},
   "source": [
    "                             CHAPTER 4"
   ]
  },
  {
   "cell_type": "code",
   "execution_count": 18,
   "id": "b2c0f1be",
   "metadata": {},
   "outputs": [
    {
     "data": {
      "text/plain": [
       "array([ 0.        ,  0.52631579,  1.05263158,  1.57894737,  2.10526316,\n",
       "        2.63157895,  3.15789474,  3.68421053,  4.21052632,  4.73684211,\n",
       "        5.26315789,  5.78947368,  6.31578947,  6.84210526,  7.36842105,\n",
       "        7.89473684,  8.42105263,  8.94736842,  9.47368421, 10.        ])"
      ]
     },
     "execution_count": 18,
     "metadata": {},
     "output_type": "execute_result"
    }
   ],
   "source": [
    "arrL = np.linspace(0,10,20)  #here, it means starting from 0 upto 10 (divided by 20 set)\n",
    "arrL"
   ]
  },
  {
   "cell_type": "markdown",
   "id": "6f668aca",
   "metadata": {},
   "source": [
    "                            CHAPTER 5"
   ]
  },
  {
   "cell_type": "code",
   "execution_count": 19,
   "id": "8182973a",
   "metadata": {},
   "outputs": [
    {
     "data": {
      "text/plain": [
       "array([0.95455166, 0.46265791, 0.67537012, 0.4828728 , 0.61243157,\n",
       "       0.13733207, 0.65977964, 0.91467208, 0.04576512, 0.7650546 ])"
      ]
     },
     "execution_count": 19,
     "metadata": {},
     "output_type": "execute_result"
    }
   ],
   "source": [
    "arr = np.random.rand(10) #here it means any 10 random number from 0 to 1\n",
    "arr"
   ]
  },
  {
   "cell_type": "code",
   "execution_count": 20,
   "id": "6936ea9d",
   "metadata": {},
   "outputs": [
    {
     "data": {
      "text/plain": [
       "array([[0.64905718, 0.11724321, 0.53495245, 0.8558705 ],\n",
       "       [0.68727658, 0.35373408, 0.90082546, 0.74507776],\n",
       "       [0.81353028, 0.06300526, 0.67913994, 0.85203348],\n",
       "       [0.63897986, 0.32767795, 0.09568366, 0.18049806],\n",
       "       [0.11189754, 0.48563515, 0.97254184, 0.0186776 ],\n",
       "       [0.49419488, 0.81019382, 0.04934643, 0.78036255],\n",
       "       [0.53801305, 0.56228947, 0.32256338, 0.603523  ],\n",
       "       [0.54346046, 0.14146034, 0.23590132, 0.81367636]])"
      ]
     },
     "execution_count": 20,
     "metadata": {},
     "output_type": "execute_result"
    }
   ],
   "source": [
    "arr = np.random.rand(8,4) # here it means any random number between 0 to 1 (with 8 rows and 4 coloumn)\n",
    "arr"
   ]
  },
  {
   "cell_type": "code",
   "execution_count": 21,
   "id": "041ca3d1",
   "metadata": {},
   "outputs": [
    {
     "name": "stdout",
     "output_type": "stream",
     "text": [
      "[0. 0. 0. 0. 0. 0. 0. 0. 0. 0.]\n",
      "/n\n",
      "[[0. 0. 0.]\n",
      " [0. 0. 0.]]\n"
     ]
    }
   ],
   "source": [
    "print(np.zeros(10))\n",
    "print('/n')\n",
    "print(np.zeros((2,3)))    #for creating mass of an images"
   ]
  },
  {
   "cell_type": "code",
   "execution_count": 22,
   "id": "679e6503",
   "metadata": {},
   "outputs": [
    {
     "name": "stdout",
     "output_type": "stream",
     "text": [
      "[[[1.]\n",
      "  [1.]\n",
      "  [1.]\n",
      "  [1.]\n",
      "  [1.]\n",
      "  [1.]\n",
      "  [1.]\n",
      "  [1.]\n",
      "  [1.]\n",
      "  [1.]]\n",
      "\n",
      " [[1.]\n",
      "  [1.]\n",
      "  [1.]\n",
      "  [1.]\n",
      "  [1.]\n",
      "  [1.]\n",
      "  [1.]\n",
      "  [1.]\n",
      "  [1.]\n",
      "  [1.]]\n",
      "\n",
      " [[1.]\n",
      "  [1.]\n",
      "  [1.]\n",
      "  [1.]\n",
      "  [1.]\n",
      "  [1.]\n",
      "  [1.]\n",
      "  [1.]\n",
      "  [1.]\n",
      "  [1.]]\n",
      "\n",
      " [[1.]\n",
      "  [1.]\n",
      "  [1.]\n",
      "  [1.]\n",
      "  [1.]\n",
      "  [1.]\n",
      "  [1.]\n",
      "  [1.]\n",
      "  [1.]\n",
      "  [1.]]\n",
      "\n",
      " [[1.]\n",
      "  [1.]\n",
      "  [1.]\n",
      "  [1.]\n",
      "  [1.]\n",
      "  [1.]\n",
      "  [1.]\n",
      "  [1.]\n",
      "  [1.]\n",
      "  [1.]]\n",
      "\n",
      " [[1.]\n",
      "  [1.]\n",
      "  [1.]\n",
      "  [1.]\n",
      "  [1.]\n",
      "  [1.]\n",
      "  [1.]\n",
      "  [1.]\n",
      "  [1.]\n",
      "  [1.]]\n",
      "\n",
      " [[1.]\n",
      "  [1.]\n",
      "  [1.]\n",
      "  [1.]\n",
      "  [1.]\n",
      "  [1.]\n",
      "  [1.]\n",
      "  [1.]\n",
      "  [1.]\n",
      "  [1.]]\n",
      "\n",
      " [[1.]\n",
      "  [1.]\n",
      "  [1.]\n",
      "  [1.]\n",
      "  [1.]\n",
      "  [1.]\n",
      "  [1.]\n",
      "  [1.]\n",
      "  [1.]\n",
      "  [1.]]\n",
      "\n",
      " [[1.]\n",
      "  [1.]\n",
      "  [1.]\n",
      "  [1.]\n",
      "  [1.]\n",
      "  [1.]\n",
      "  [1.]\n",
      "  [1.]\n",
      "  [1.]\n",
      "  [1.]]\n",
      "\n",
      " [[1.]\n",
      "  [1.]\n",
      "  [1.]\n",
      "  [1.]\n",
      "  [1.]\n",
      "  [1.]\n",
      "  [1.]\n",
      "  [1.]\n",
      "  [1.]\n",
      "  [1.]]]\n"
     ]
    }
   ],
   "source": [
    "print(np.ones((10,10,1)))  #for creating mass of an images"
   ]
  },
  {
   "cell_type": "code",
   "execution_count": 23,
   "id": "bd5e7a34",
   "metadata": {},
   "outputs": [
    {
     "name": "stdout",
     "output_type": "stream",
     "text": [
      "[[1. 1. 1. 1. 1. 1. 1. 1. 1. 1.]\n",
      " [1. 1. 1. 1. 1. 1. 1. 1. 1. 1.]\n",
      " [1. 1. 1. 1. 1. 1. 1. 1. 1. 1.]\n",
      " [1. 1. 1. 1. 1. 1. 1. 1. 1. 1.]\n",
      " [1. 1. 1. 1. 1. 1. 1. 1. 1. 1.]\n",
      " [1. 1. 1. 1. 1. 1. 1. 1. 1. 1.]\n",
      " [1. 1. 1. 1. 1. 1. 1. 1. 1. 1.]\n",
      " [1. 1. 1. 1. 1. 1. 1. 1. 1. 1.]\n",
      " [1. 1. 1. 1. 1. 1. 1. 1. 1. 1.]\n",
      " [1. 1. 1. 1. 1. 1. 1. 1. 1. 1.]]\n"
     ]
    }
   ],
   "source": [
    "print(np.ones((10,10)))  #for creating mass of an images"
   ]
  },
  {
   "cell_type": "code",
   "execution_count": 24,
   "id": "0af60fb3",
   "metadata": {},
   "outputs": [
    {
     "name": "stdout",
     "output_type": "stream",
     "text": [
      "[0 0 0 1 1 1 2 2 2 8 8 8]\n"
     ]
    }
   ],
   "source": [
    "arr = [0,1,2,8]           #here arr 0,1,2,8 is repeated 3 times\n",
    "print(np.repeat(arr,3))"
   ]
  },
  {
   "cell_type": "code",
   "execution_count": 25,
   "id": "9790b511",
   "metadata": {},
   "outputs": [
    {
     "name": "stdout",
     "output_type": "stream",
     "text": [
      "[0 1 2 8 0 1 2 8 0 1 2 8]\n"
     ]
    }
   ],
   "source": [
    "print(np.tile(arr,3))     #here,the code of In[36] is just modified"
   ]
  },
  {
   "cell_type": "code",
   "execution_count": 26,
   "id": "32e468d9",
   "metadata": {},
   "outputs": [
    {
     "data": {
      "text/plain": [
       "array([[1., 0., 0.],\n",
       "       [0., 1., 0.],\n",
       "       [0., 0., 1.]])"
      ]
     },
     "execution_count": 26,
     "metadata": {},
     "output_type": "execute_result"
    }
   ],
   "source": [
    "identity_matrix = np.eye(3)\n",
    "identity_matrix"
   ]
  },
  {
   "cell_type": "code",
   "execution_count": 27,
   "id": "f75f19e7",
   "metadata": {},
   "outputs": [
    {
     "data": {
      "text/plain": [
       "array([[1, 0, 0, 0, 0],\n",
       "       [0, 2, 0, 0, 0],\n",
       "       [0, 0, 3, 0, 0],\n",
       "       [0, 0, 0, 4, 0],\n",
       "       [0, 0, 0, 0, 5]])"
      ]
     },
     "execution_count": 27,
     "metadata": {},
     "output_type": "execute_result"
    }
   ],
   "source": [
    "np.diag([1,2,3,4,5])"
   ]
  },
  {
   "cell_type": "code",
   "execution_count": 28,
   "id": "62c9c090",
   "metadata": {},
   "outputs": [
    {
     "data": {
      "text/plain": [
       "array([[0.15646581, 0.10310833, 0.9514508 , 0.90171313, 0.9385647 ],\n",
       "       [0.71215629, 0.74449309, 0.17318881, 0.79185141, 0.64653971],\n",
       "       [0.03631747, 0.34211835, 0.79339112, 0.74651069, 0.82991138],\n",
       "       [0.73007857, 0.82842831, 0.12083808, 0.45431284, 0.91358917],\n",
       "       [0.7484389 , 0.83426005, 0.01830063, 0.65583911, 0.28944508]])"
      ]
     },
     "execution_count": 28,
     "metadata": {},
     "output_type": "execute_result"
    }
   ],
   "source": [
    "arr = np.random.rand(5,5) #here it means any random no. netween 0 to 1(in 5 rows and 5 column)\n",
    "arr"
   ]
  },
  {
   "cell_type": "code",
   "execution_count": 29,
   "id": "c21c303d",
   "metadata": {},
   "outputs": [
    {
     "data": {
      "text/plain": [
       "array([0.15646581, 0.74449309, 0.79339112, 0.45431284, 0.28944508])"
      ]
     },
     "execution_count": 29,
     "metadata": {},
     "output_type": "execute_result"
    }
   ],
   "source": [
    "np.diag(arr)"
   ]
  },
  {
   "cell_type": "code",
   "execution_count": 30,
   "id": "ca7bb5c7",
   "metadata": {},
   "outputs": [
    {
     "data": {
      "text/plain": [
       "2"
      ]
     },
     "execution_count": 30,
     "metadata": {},
     "output_type": "execute_result"
    }
   ],
   "source": [
    "arr.ndim   #this code is used to find dimention of arr (here, which is 2)"
   ]
  },
  {
   "cell_type": "code",
   "execution_count": 31,
   "id": "e9d718eb",
   "metadata": {},
   "outputs": [
    {
     "data": {
      "text/plain": [
       "25"
      ]
     },
     "execution_count": 31,
     "metadata": {},
     "output_type": "execute_result"
    }
   ],
   "source": [
    "arr.size"
   ]
  },
  {
   "cell_type": "code",
   "execution_count": 32,
   "id": "c75d338c",
   "metadata": {},
   "outputs": [
    {
     "data": {
      "text/plain": [
       "(5, 5)"
      ]
     },
     "execution_count": 32,
     "metadata": {},
     "output_type": "execute_result"
    }
   ],
   "source": [
    "arr.shape"
   ]
  },
  {
   "cell_type": "code",
   "execution_count": 33,
   "id": "867e3e52",
   "metadata": {},
   "outputs": [
    {
     "data": {
      "text/plain": [
       "array([ 9,  1,  7, -8])"
      ]
     },
     "execution_count": 33,
     "metadata": {},
     "output_type": "execute_result"
    }
   ],
   "source": [
    "np.random.randint(-10,10,4) #when we are delealing with negative(-) number we should use .randint instead of rand"
   ]
  },
  {
   "cell_type": "code",
   "execution_count": 34,
   "id": "c75756d1",
   "metadata": {},
   "outputs": [
    {
     "data": {
      "text/plain": [
       "array([[10.15646581, 10.10310833, 10.9514508 , 10.90171313, 10.9385647 ],\n",
       "       [10.71215629, 10.74449309, 10.17318881, 10.79185141, 10.64653971],\n",
       "       [10.03631747, 10.34211835, 10.79339112, 10.74651069, 10.82991138],\n",
       "       [10.73007857, 10.82842831, 10.12083808, 10.45431284, 10.91358917],\n",
       "       [10.7484389 , 10.83426005, 10.01830063, 10.65583911, 10.28944508]])"
      ]
     },
     "execution_count": 34,
     "metadata": {},
     "output_type": "execute_result"
    }
   ],
   "source": [
    "arr+10"
   ]
  },
  {
   "cell_type": "code",
   "execution_count": 35,
   "id": "bd1f538a",
   "metadata": {},
   "outputs": [
    {
     "data": {
      "text/plain": [
       "array([[-9.84353419, -9.89689167, -9.0485492 , -9.09828687, -9.0614353 ],\n",
       "       [-9.28784371, -9.25550691, -9.82681119, -9.20814859, -9.35346029],\n",
       "       [-9.96368253, -9.65788165, -9.20660888, -9.25348931, -9.17008862],\n",
       "       [-9.26992143, -9.17157169, -9.87916192, -9.54568716, -9.08641083],\n",
       "       [-9.2515611 , -9.16573995, -9.98169937, -9.34416089, -9.71055492]])"
      ]
     },
     "execution_count": 35,
     "metadata": {},
     "output_type": "execute_result"
    }
   ],
   "source": [
    "arr-10"
   ]
  },
  {
   "cell_type": "code",
   "execution_count": 36,
   "id": "9ab7272b",
   "metadata": {},
   "outputs": [
    {
     "data": {
      "text/plain": [
       "array([[0.31293161, 0.20621667, 1.9029016 , 1.80342627, 1.8771294 ],\n",
       "       [1.42431258, 1.48898618, 0.34637763, 1.58370282, 1.29307942],\n",
       "       [0.07263493, 0.68423669, 1.58678223, 1.49302139, 1.65982276],\n",
       "       [1.46015714, 1.65685662, 0.24167616, 0.90862568, 1.82717833],\n",
       "       [1.49687779, 1.66852009, 0.03660125, 1.31167821, 0.57889016]])"
      ]
     },
     "execution_count": 36,
     "metadata": {},
     "output_type": "execute_result"
    }
   ],
   "source": [
    "arr*2"
   ]
  },
  {
   "cell_type": "code",
   "execution_count": 37,
   "id": "0e2c799c",
   "metadata": {},
   "outputs": [
    {
     "data": {
      "text/plain": [
       "array([[0.0782329 , 0.05155417, 0.4757254 , 0.45085657, 0.46928235],\n",
       "       [0.35607815, 0.37224654, 0.08659441, 0.3959257 , 0.32326986],\n",
       "       [0.01815873, 0.17105917, 0.39669556, 0.37325535, 0.41495569],\n",
       "       [0.36503929, 0.41421415, 0.06041904, 0.22715642, 0.45679458],\n",
       "       [0.37421945, 0.41713002, 0.00915031, 0.32791955, 0.14472254]])"
      ]
     },
     "execution_count": 37,
     "metadata": {},
     "output_type": "execute_result"
    }
   ],
   "source": [
    "arr/2"
   ]
  },
  {
   "cell_type": "code",
   "execution_count": 38,
   "id": "0cde4a0d",
   "metadata": {},
   "outputs": [
    {
     "data": {
      "text/plain": [
       "array([[1.16937078, 1.1086115 , 2.58946372, 2.46382035, 2.55630971],\n",
       "       [2.03838187, 2.10537393, 1.1890906 , 2.20747959, 1.90892396],\n",
       "       [1.036985  , 1.40792691, 2.21088108, 2.10962603, 2.29311552],\n",
       "       [2.07524366, 2.28971718, 1.12844218, 1.57509067, 2.4932552 ],\n",
       "       [2.11369774, 2.30310923, 1.01846911, 1.92675859, 1.33568608]])"
      ]
     },
     "execution_count": 38,
     "metadata": {},
     "output_type": "execute_result"
    }
   ],
   "source": [
    "np.exp(arr)   #exp means expedentional"
   ]
  },
  {
   "cell_type": "code",
   "execution_count": 39,
   "id": "7a75fcfc",
   "metadata": {},
   "outputs": [
    {
     "data": {
      "text/plain": [
       "array([[0.15646581, 0.10310833, 0.9514508 , 0.90171313, 0.9385647 ],\n",
       "       [0.71215629, 0.74449309, 0.17318881, 0.79185141, 0.64653971],\n",
       "       [0.03631747, 0.34211835, 0.79339112, 0.74651069, 0.82991138],\n",
       "       [0.73007857, 0.82842831, 0.12083808, 0.45431284, 0.91358917],\n",
       "       [0.7484389 , 0.83426005, 0.01830063, 0.65583911, 0.28944508]])"
      ]
     },
     "execution_count": 39,
     "metadata": {},
     "output_type": "execute_result"
    }
   ],
   "source": [
    "arr"
   ]
  },
  {
   "cell_type": "code",
   "execution_count": 40,
   "id": "c142e152",
   "metadata": {},
   "outputs": [
    {
     "data": {
      "text/plain": [
       "array([[-1.85491778, -2.27197506, -0.0497673 , -0.10345884, -0.06340349],\n",
       "       [-0.33945788, -0.29505171, -1.75337287, -0.23338152, -0.43612066],\n",
       "       [-3.31545651, -1.07259856, -0.23143897, -0.29234534, -0.18643635],\n",
       "       [-0.31460312, -0.18822498, -2.11330379, -0.78896924, -0.0903743 ],\n",
       "       [-0.28976571, -0.18121012, -4.00081994, -0.42183979, -1.23978971]])"
      ]
     },
     "execution_count": 40,
     "metadata": {},
     "output_type": "execute_result"
    }
   ],
   "source": [
    "np.log(arr)"
   ]
  },
  {
   "cell_type": "code",
   "execution_count": 41,
   "id": "1aa047c3",
   "metadata": {},
   "outputs": [
    {
     "data": {
      "text/plain": [
       "array([[-2.67608068, -3.27776715, -0.07179904, -0.14925956, -0.0914719 ],\n",
       "       [-0.4897342 , -0.42566964, -2.52958234, -0.33669836, -0.62918911],\n",
       "       [-4.78319266, -1.54743263, -0.33389585, -0.42176517, -0.2689708 ],\n",
       "       [-0.45387636, -0.27155124, -3.0488529 , -1.13824201, -0.13038255],\n",
       "       [-0.41804356, -0.26143094, -5.77196309, -0.60858617, -1.78863846]])"
      ]
     },
     "execution_count": 41,
     "metadata": {},
     "output_type": "execute_result"
    }
   ],
   "source": [
    "np.log2(arr)"
   ]
  },
  {
   "cell_type": "code",
   "execution_count": 42,
   "id": "a82e65d6",
   "metadata": {},
   "outputs": [
    {
     "data": {
      "text/plain": [
       "array([[-0.80558055, -0.98670623, -0.02161367, -0.04493161, -0.02753578],\n",
       "       [-0.14742468, -0.12813933, -0.76148016, -0.10135631, -0.18940479],\n",
       "       [-1.43988447, -0.46582364, -0.10051267, -0.12696397, -0.08096828],\n",
       "       [-0.1366304 , -0.08174507, -0.91779618, -0.34264499, -0.03924906],\n",
       "       [-0.12584365, -0.07869855, -1.73753402, -0.18320269, -0.53843383]])"
      ]
     },
     "execution_count": 42,
     "metadata": {},
     "output_type": "execute_result"
    }
   ],
   "source": [
    "np.log10(arr)"
   ]
  },
  {
   "cell_type": "code",
   "execution_count": 43,
   "id": "91986d74",
   "metadata": {},
   "outputs": [
    {
     "data": {
      "text/plain": [
       "array([[0.15582817, 0.10292573, 0.81425855, 0.78439066, 0.80671075],\n",
       "       [0.6534675 , 0.6775991 , 0.17232433, 0.71165516, 0.60242811],\n",
       "       [0.03630948, 0.33548342, 0.712736  , 0.67908153, 0.73787156],\n",
       "       [0.66692818, 0.73686976, 0.12054422, 0.43884496, 0.79170149],\n",
       "       [0.68049569, 0.74079967, 0.01829961, 0.60982448, 0.28542043]])"
      ]
     },
     "execution_count": 43,
     "metadata": {},
     "output_type": "execute_result"
    }
   ],
   "source": [
    "np.sin(arr)"
   ]
  },
  {
   "cell_type": "code",
   "execution_count": 44,
   "id": "09d6476f",
   "metadata": {},
   "outputs": [
    {
     "data": {
      "text/plain": [
       "array([[0.98778418, 0.99468904, 0.58050238, 0.62026711, 0.59094651],\n",
       "       [0.75695457, 0.73543148, 0.98504027, 0.70252896, 0.79817315],\n",
       "       [0.99934059, 0.94204611, 0.70143238, 0.73406286, 0.67494115],\n",
       "       [0.745122  , 0.67603473, 0.99270796, 0.8985628 , 0.61090814],\n",
       "       [0.73275209, 0.67172602, 0.99983255, 0.7925365 , 0.95840241]])"
      ]
     },
     "execution_count": 44,
     "metadata": {},
     "output_type": "execute_result"
    }
   ],
   "source": [
    "np.cos(arr)"
   ]
  },
  {
   "cell_type": "code",
   "execution_count": 45,
   "id": "ea4d0663",
   "metadata": {},
   "outputs": [
    {
     "data": {
      "text/plain": [
       "array([[0.15775528, 0.10347529, 1.4026791 , 1.2646014 , 1.36511636],\n",
       "       [0.86328497, 0.92136265, 0.17494141, 1.0129905 , 0.75475868],\n",
       "       [0.03633344, 0.35612208, 1.01611506, 0.92509998, 1.09323836],\n",
       "       [0.89505904, 1.08998804, 0.12142969, 0.48838541, 1.29594194],\n",
       "       [0.92868475, 1.10283009, 0.01830267, 0.76945917, 0.29780855]])"
      ]
     },
     "execution_count": 45,
     "metadata": {},
     "output_type": "execute_result"
    }
   ],
   "source": [
    "np.tan(arr)"
   ]
  },
  {
   "cell_type": "code",
   "execution_count": 46,
   "id": "28f54ae0",
   "metadata": {},
   "outputs": [
    {
     "data": {
      "text/plain": [
       "array([[0.15646581, 0.10310833, 0.9514508 , 0.90171313, 0.9385647 ],\n",
       "       [0.71215629, 0.74449309, 0.17318881, 0.79185141, 0.64653971],\n",
       "       [0.03631747, 0.34211835, 0.79339112, 0.74651069, 0.82991138],\n",
       "       [0.73007857, 0.82842831, 0.12083808, 0.45431284, 0.91358917],\n",
       "       [0.7484389 , 0.83426005, 0.01830063, 0.65583911, 0.28944508]])"
      ]
     },
     "execution_count": 46,
     "metadata": {},
     "output_type": "execute_result"
    }
   ],
   "source": [
    "arr"
   ]
  },
  {
   "cell_type": "code",
   "execution_count": 47,
   "id": "926c7ea3",
   "metadata": {},
   "outputs": [
    {
     "data": {
      "text/plain": [
       "14.461311814096057"
      ]
     },
     "execution_count": 47,
     "metadata": {},
     "output_type": "execute_result"
    }
   ],
   "source": [
    "np.sum(arr) #here it is showing sum of all the number"
   ]
  },
  {
   "cell_type": "code",
   "execution_count": 48,
   "id": "c23656a0",
   "metadata": {},
   "outputs": [
    {
     "data": {
      "text/plain": [
       "array([2.38345703, 2.85240812, 2.05716944, 3.55022718, 3.61805004])"
      ]
     },
     "execution_count": 48,
     "metadata": {},
     "output_type": "execute_result"
    }
   ],
   "source": [
    "np.sum(arr,axis=0)  #here it is showing the sum of axis 0"
   ]
  },
  {
   "cell_type": "code",
   "execution_count": 49,
   "id": "0a64dcb2",
   "metadata": {},
   "outputs": [
    {
     "data": {
      "text/plain": [
       "array([3.05130277, 3.06822932, 2.748249  , 3.04724697, 2.54628376])"
      ]
     },
     "execution_count": 49,
     "metadata": {},
     "output_type": "execute_result"
    }
   ],
   "source": [
    "np.sum(arr,axis=1)      #here it is showing the sum of axis 0"
   ]
  },
  {
   "cell_type": "code",
   "execution_count": 50,
   "id": "0a14effc",
   "metadata": {},
   "outputs": [
    {
     "data": {
      "text/plain": [
       "0.018300627240989797"
      ]
     },
     "execution_count": 50,
     "metadata": {},
     "output_type": "execute_result"
    }
   ],
   "source": [
    "np.min(arr)  #here it is showing min value "
   ]
  },
  {
   "cell_type": "code",
   "execution_count": 51,
   "id": "f8043422",
   "metadata": {},
   "outputs": [
    {
     "data": {
      "text/plain": [
       "array([0.03631747, 0.10310833, 0.01830063, 0.45431284, 0.28944508])"
      ]
     },
     "execution_count": 51,
     "metadata": {},
     "output_type": "execute_result"
    }
   ],
   "source": [
    "np.min(arr,axis=0)   #here it is showing min value of 0 axis"
   ]
  },
  {
   "cell_type": "code",
   "execution_count": 52,
   "id": "7dd7fbf6",
   "metadata": {},
   "outputs": [
    {
     "data": {
      "text/plain": [
       "array([0.10310833, 0.17318881, 0.03631747, 0.12083808, 0.01830063])"
      ]
     },
     "execution_count": 52,
     "metadata": {},
     "output_type": "execute_result"
    }
   ],
   "source": [
    "np.min(arr,axis=1)    #here it is showing min value of 1 axis"
   ]
  },
  {
   "cell_type": "code",
   "execution_count": 53,
   "id": "49da328e",
   "metadata": {},
   "outputs": [
    {
     "data": {
      "text/plain": [
       "0.5784524725638422"
      ]
     },
     "execution_count": 53,
     "metadata": {},
     "output_type": "execute_result"
    }
   ],
   "source": [
    "np.mean(arr)   #it is calculating mean"
   ]
  },
  {
   "cell_type": "code",
   "execution_count": 54,
   "id": "fd6e55b5",
   "metadata": {},
   "outputs": [
    {
     "data": {
      "text/plain": [
       "array([0.47669141, 0.57048162, 0.41143389, 0.71004544, 0.72361001])"
      ]
     },
     "execution_count": 54,
     "metadata": {},
     "output_type": "execute_result"
    }
   ],
   "source": [
    "np.mean(arr,axis=0)"
   ]
  },
  {
   "cell_type": "code",
   "execution_count": 55,
   "id": "1e2c394f",
   "metadata": {},
   "outputs": [
    {
     "data": {
      "text/plain": [
       "0.7300785715060915"
      ]
     },
     "execution_count": 55,
     "metadata": {},
     "output_type": "execute_result"
    }
   ],
   "source": [
    " np.median(arr)   #it is calculating median"
   ]
  },
  {
   "cell_type": "code",
   "execution_count": 56,
   "id": "3011bf35",
   "metadata": {},
   "outputs": [
    {
     "data": {
      "text/plain": [
       "array([0.71215629, 0.74449309, 0.17318881, 0.74651069, 0.82991138])"
      ]
     },
     "execution_count": 56,
     "metadata": {},
     "output_type": "execute_result"
    }
   ],
   "source": [
    "np.median(arr,axis=0)"
   ]
  },
  {
   "cell_type": "code",
   "execution_count": 57,
   "id": "1718c90d",
   "metadata": {},
   "outputs": [
    {
     "data": {
      "text/plain": [
       "0.3127210966155798"
      ]
     },
     "execution_count": 57,
     "metadata": {},
     "output_type": "execute_result"
    }
   ],
   "source": [
    "np.std(arr)   #it is calculating standard deviation"
   ]
  },
  {
   "cell_type": "code",
   "execution_count": 58,
   "id": "75125570",
   "metadata": {},
   "outputs": [
    {
     "data": {
      "text/plain": [
       "array([0.31303965, 0.2956292 , 0.3829543 , 0.15039676, 0.24001525])"
      ]
     },
     "execution_count": 58,
     "metadata": {},
     "output_type": "execute_result"
    }
   ],
   "source": [
    "np.std(arr,axis=0)"
   ]
  },
  {
   "cell_type": "code",
   "execution_count": 59,
   "id": "c43d5082",
   "metadata": {},
   "outputs": [
    {
     "data": {
      "text/plain": [
       "0.09779448426845079"
      ]
     },
     "execution_count": 59,
     "metadata": {},
     "output_type": "execute_result"
    }
   ],
   "source": [
    "np.var(arr)   #it is calculating variance"
   ]
  },
  {
   "cell_type": "code",
   "execution_count": 60,
   "id": "0eb71825",
   "metadata": {},
   "outputs": [
    {
     "data": {
      "text/plain": [
       "array([0.09799382, 0.08739662, 0.146654  , 0.02261918, 0.05760732])"
      ]
     },
     "execution_count": 60,
     "metadata": {},
     "output_type": "execute_result"
    }
   ],
   "source": [
    "np.var(arr,axis=0)"
   ]
  },
  {
   "cell_type": "code",
   "execution_count": 61,
   "id": "bc311c98",
   "metadata": {},
   "outputs": [
    {
     "data": {
      "text/plain": [
       "array([[0.17318881],\n",
       "       [0.79339112],\n",
       "       [0.12083808],\n",
       "       [0.01830063]])"
      ]
     },
     "execution_count": 61,
     "metadata": {},
     "output_type": "execute_result"
    }
   ],
   "source": [
    "arr[1:,2:3]"
   ]
  },
  {
   "cell_type": "code",
   "execution_count": 62,
   "id": "ce7afc1b",
   "metadata": {},
   "outputs": [
    {
     "data": {
      "text/plain": [
       "array([[0.17318881],\n",
       "       [0.79339112],\n",
       "       [0.12083808],\n",
       "       [0.01830063]])"
      ]
     },
     "execution_count": 62,
     "metadata": {},
     "output_type": "execute_result"
    }
   ],
   "source": [
    "arr[1:,2:3]"
   ]
  },
  {
   "cell_type": "code",
   "execution_count": 63,
   "id": "e2d61a2f",
   "metadata": {},
   "outputs": [
    {
     "data": {
      "text/plain": [
       "array([[0.17318881, 0.79185141],\n",
       "       [0.79339112, 0.74651069],\n",
       "       [0.12083808, 0.45431284],\n",
       "       [0.01830063, 0.65583911]])"
      ]
     },
     "execution_count": 63,
     "metadata": {},
     "output_type": "execute_result"
    }
   ],
   "source": [
    "arr[1:,2:-1]"
   ]
  },
  {
   "cell_type": "code",
   "execution_count": 64,
   "id": "197dae16",
   "metadata": {},
   "outputs": [
    {
     "data": {
      "text/plain": [
       "array([[0.10310833, 0.15646581, 0.90171313, 0.9385647 , 0.9514508 ],\n",
       "       [0.17318881, 0.64653971, 0.71215629, 0.74449309, 0.79185141],\n",
       "       [0.03631747, 0.34211835, 0.74651069, 0.79339112, 0.82991138],\n",
       "       [0.12083808, 0.45431284, 0.73007857, 0.82842831, 0.91358917],\n",
       "       [0.01830063, 0.28944508, 0.65583911, 0.7484389 , 0.83426005]])"
      ]
     },
     "execution_count": 64,
     "metadata": {},
     "output_type": "execute_result"
    }
   ],
   "source": [
    "np.sort(arr,axis=1)"
   ]
  },
  {
   "cell_type": "code",
   "execution_count": 65,
   "id": "1fa89a83",
   "metadata": {},
   "outputs": [
    {
     "data": {
      "text/plain": [
       "array([[0.10310833, 0.15646581, 0.90171313, 0.9385647 , 0.9514508 ],\n",
       "       [0.17318881, 0.64653971, 0.71215629, 0.74449309, 0.79185141],\n",
       "       [0.03631747, 0.34211835, 0.74651069, 0.79339112, 0.82991138],\n",
       "       [0.12083808, 0.45431284, 0.73007857, 0.82842831, 0.91358917],\n",
       "       [0.01830063, 0.28944508, 0.65583911, 0.7484389 , 0.83426005]])"
      ]
     },
     "execution_count": 65,
     "metadata": {},
     "output_type": "execute_result"
    }
   ],
   "source": [
    "np.sort(arr)"
   ]
  },
  {
   "cell_type": "code",
   "execution_count": 66,
   "id": "2eda7a1e",
   "metadata": {},
   "outputs": [
    {
     "data": {
      "text/plain": [
       "array([[0.15646581, 0.10310833, 0.9514508 , 0.90171313, 0.9385647 ],\n",
       "       [0.71215629, 0.74449309, 0.17318881, 0.79185141, 0.64653971],\n",
       "       [0.03631747, 0.34211835, 0.79339112, 0.74651069, 0.82991138],\n",
       "       [0.73007857, 0.82842831, 0.12083808, 0.45431284, 0.91358917],\n",
       "       [0.7484389 , 0.83426005, 0.01830063, 0.65583911, 0.28944508]])"
      ]
     },
     "execution_count": 66,
     "metadata": {},
     "output_type": "execute_result"
    }
   ],
   "source": [
    "arr"
   ]
  },
  {
   "cell_type": "code",
   "execution_count": 67,
   "id": "1ea30085",
   "metadata": {},
   "outputs": [
    {
     "data": {
      "text/plain": [
       "array([[0.15646581, 0.71215629, 0.03631747, 0.73007857, 0.7484389 ],\n",
       "       [0.10310833, 0.74449309, 0.34211835, 0.82842831, 0.83426005],\n",
       "       [0.9514508 , 0.17318881, 0.79339112, 0.12083808, 0.01830063],\n",
       "       [0.90171313, 0.79185141, 0.74651069, 0.45431284, 0.65583911],\n",
       "       [0.9385647 , 0.64653971, 0.82991138, 0.91358917, 0.28944508]])"
      ]
     },
     "execution_count": 67,
     "metadata": {},
     "output_type": "execute_result"
    }
   ],
   "source": [
    "arr.T"
   ]
  },
  {
   "cell_type": "code",
   "execution_count": 68,
   "id": "50399286",
   "metadata": {},
   "outputs": [
    {
     "data": {
      "text/plain": [
       "array([[0.15646581, 0.10310833, 0.9514508 , 0.90171313, 0.9385647 ],\n",
       "       [0.71215629, 0.74449309, 0.17318881, 0.79185141, 0.64653971],\n",
       "       [0.03631747, 0.34211835, 0.79339112, 0.74651069, 0.82991138]])"
      ]
     },
     "execution_count": 68,
     "metadata": {},
     "output_type": "execute_result"
    }
   ],
   "source": [
    "arr[:3,:]"
   ]
  },
  {
   "cell_type": "code",
   "execution_count": 69,
   "id": "4e378fd9",
   "metadata": {},
   "outputs": [
    {
     "data": {
      "text/plain": [
       "array([[0.15646581, 0.71215629, 0.03631747],\n",
       "       [0.10310833, 0.74449309, 0.34211835],\n",
       "       [0.9514508 , 0.17318881, 0.79339112],\n",
       "       [0.90171313, 0.79185141, 0.74651069],\n",
       "       [0.9385647 , 0.64653971, 0.82991138]])"
      ]
     },
     "execution_count": 69,
     "metadata": {},
     "output_type": "execute_result"
    }
   ],
   "source": [
    "arr[:3,:].T   #T means transpose"
   ]
  },
  {
   "cell_type": "code",
   "execution_count": 70,
   "id": "647cd0a0",
   "metadata": {},
   "outputs": [
    {
     "data": {
      "text/plain": [
       "array([[0.15646581, 0.71215629, 0.03631747],\n",
       "       [0.10310833, 0.74449309, 0.34211835],\n",
       "       [0.9514508 , 0.17318881, 0.79339112],\n",
       "       [0.90171313, 0.79185141, 0.74651069],\n",
       "       [0.9385647 , 0.64653971, 0.82991138]])"
      ]
     },
     "execution_count": 70,
     "metadata": {},
     "output_type": "execute_result"
    }
   ],
   "source": [
    "arr[:3,:].transpose()       #the answer is same as In[82]"
   ]
  },
  {
   "cell_type": "code",
   "execution_count": 71,
   "id": "1a89ee0d",
   "metadata": {},
   "outputs": [
    {
     "data": {
      "text/plain": [
       "array([0.15646581, 0.10310833, 0.9514508 , 0.90171313, 0.9385647 ,\n",
       "       0.71215629, 0.74449309, 0.17318881, 0.79185141, 0.64653971,\n",
       "       0.03631747, 0.34211835, 0.79339112, 0.74651069, 0.82991138])"
      ]
     },
     "execution_count": 71,
     "metadata": {},
     "output_type": "execute_result"
    }
   ],
   "source": [
    "arr[:3,:].flatten()    #this command is to flatten the data"
   ]
  },
  {
   "cell_type": "markdown",
   "id": "de47fbc5",
   "metadata": {},
   "source": [
    "                            CHAPTER 6"
   ]
  },
  {
   "cell_type": "code",
   "execution_count": 72,
   "id": "6e78e65a",
   "metadata": {},
   "outputs": [
    {
     "data": {
      "text/plain": [
       "array([4, 5, 6, 7, 8])"
      ]
     },
     "execution_count": 72,
     "metadata": {},
     "output_type": "execute_result"
    }
   ],
   "source": [
    "arr = np.array([4,5,6,7,8])\n",
    "arr"
   ]
  },
  {
   "cell_type": "code",
   "execution_count": 73,
   "id": "b94e3186",
   "metadata": {},
   "outputs": [
    {
     "data": {
      "text/plain": [
       "array([4, 5, 6, 7, 8, 8])"
      ]
     },
     "execution_count": 73,
     "metadata": {},
     "output_type": "execute_result"
    }
   ],
   "source": [
    "arr1 = np.append(arr,8)\n",
    "arr1"
   ]
  },
  {
   "cell_type": "code",
   "execution_count": 74,
   "id": "b2438df0",
   "metadata": {},
   "outputs": [
    {
     "data": {
      "text/plain": [
       "array([1, 2, 3, 4, 5, 6, 7, 8])"
      ]
     },
     "execution_count": 74,
     "metadata": {},
     "output_type": "execute_result"
    }
   ],
   "source": [
    "arr2 = np.insert(arr,0, [1,2,3])\n",
    "arr2"
   ]
  },
  {
   "cell_type": "code",
   "execution_count": 75,
   "id": "9d320719",
   "metadata": {},
   "outputs": [
    {
     "data": {
      "text/plain": [
       "array([4, 5, 6, 7, 1, 2, 3, 8])"
      ]
     },
     "execution_count": 75,
     "metadata": {},
     "output_type": "execute_result"
    }
   ],
   "source": [
    "arr3 = np.insert(arr, -1, [1,2,3])\n",
    "arr3"
   ]
  },
  {
   "cell_type": "code",
   "execution_count": 78,
   "id": "0c9b44b5",
   "metadata": {},
   "outputs": [
    {
     "data": {
      "text/plain": [
       "array([2, 3, 4, 5, 6, 7, 8])"
      ]
     },
     "execution_count": 78,
     "metadata": {},
     "output_type": "execute_result"
    }
   ],
   "source": [
    "arr3 = np.delete(arr2,0)\n",
    "arr3"
   ]
  },
  {
   "cell_type": "code",
   "execution_count": 80,
   "id": "e6a18b4a",
   "metadata": {},
   "outputs": [
    {
     "data": {
      "text/plain": [
       "array([4, 5, 6, 8, 8])"
      ]
     },
     "execution_count": 80,
     "metadata": {},
     "output_type": "execute_result"
    }
   ],
   "source": [
    "arr3 = np.delete(arr1,3)\n",
    "arr3"
   ]
  },
  {
   "cell_type": "code",
   "execution_count": 82,
   "id": "d683450b",
   "metadata": {},
   "outputs": [
    {
     "data": {
      "text/plain": [
       "array([4, 5, 6, 8, 8])"
      ]
     },
     "execution_count": 82,
     "metadata": {},
     "output_type": "execute_result"
    }
   ],
   "source": [
    "arrC = arr3.copy()\n",
    "arrC"
   ]
  }
 ],
 "metadata": {
  "kernelspec": {
   "display_name": "Python 3 (ipykernel)",
   "language": "python",
   "name": "python3"
  },
  "language_info": {
   "codemirror_mode": {
    "name": "ipython",
    "version": 3
   },
   "file_extension": ".py",
   "mimetype": "text/x-python",
   "name": "python",
   "nbconvert_exporter": "python",
   "pygments_lexer": "ipython3",
   "version": "3.9.13"
  }
 },
 "nbformat": 4,
 "nbformat_minor": 5
}
