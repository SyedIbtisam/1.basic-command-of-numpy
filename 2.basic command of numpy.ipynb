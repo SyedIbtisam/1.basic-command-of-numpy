{
 "cells": [
  {
   "cell_type": "code",
   "execution_count": 1,
   "id": "847e91cf",
   "metadata": {},
   "outputs": [],
   "source": [
    "import numpy as np"
   ]
  },
  {
   "cell_type": "markdown",
   "id": "f70c3bb5",
   "metadata": {},
   "source": [
    "                                  Chapter 7"
   ]
  },
  {
   "cell_type": "code",
   "execution_count": 2,
   "id": "7c52e43a",
   "metadata": {},
   "outputs": [
    {
     "name": "stdout",
     "output_type": "stream",
     "text": [
      "[[1 2 3 4]\n",
      " [1 2 3 4]\n",
      " [5 6 7 8]\n",
      " [5 6 7 8]]\n"
     ]
    }
   ],
   "source": [
    "arr1 = np.array([[1,2,3,4],[1,2,3,4]])\n",
    "arr2 = np.array([[5,6,7,8],[5,6,7,8]])\n",
    "arr_cat = np.concatenate((arr1,arr2),axis=0)\n",
    "print(arr_cat)"
   ]
  },
  {
   "cell_type": "code",
   "execution_count": 3,
   "id": "1367cf19",
   "metadata": {},
   "outputs": [
    {
     "name": "stdout",
     "output_type": "stream",
     "text": [
      "[[1 2 3 4 5 6 7 8]\n",
      " [1 2 3 4 5 6 7 8]]\n"
     ]
    }
   ],
   "source": [
    "arr1 = np.array([[1,2,3,4],[1,2,3,4]])\n",
    "arr2 = np.array([[5,6,7,8],[5,6,7,8]])\n",
    "arr_cat = np.concatenate((arr1,arr2),axis=1)\n",
    "print(arr_cat)"
   ]
  },
  {
   "cell_type": "code",
   "execution_count": 4,
   "id": "f56efba9",
   "metadata": {},
   "outputs": [
    {
     "data": {
      "text/plain": [
       "array([[1, 2, 3, 4],\n",
       "       [1, 2, 3, 4],\n",
       "       [5, 6, 7, 8],\n",
       "       [5, 6, 7, 8]])"
      ]
     },
     "execution_count": 4,
     "metadata": {},
     "output_type": "execute_result"
    }
   ],
   "source": [
    "catV = np.vstack((arr1,arr2))   #it is as smilar as In[10]\n",
    "catV "
   ]
  },
  {
   "cell_type": "code",
   "execution_count": 5,
   "id": "9b6b61a6",
   "metadata": {},
   "outputs": [
    {
     "data": {
      "text/plain": [
       "array([[1, 2, 3, 4, 5, 6, 7, 8],\n",
       "       [1, 2, 3, 4, 5, 6, 7, 8]])"
      ]
     },
     "execution_count": 5,
     "metadata": {},
     "output_type": "execute_result"
    }
   ],
   "source": [
    "cat = np.hstack((arr1,arr2))   #it is as smilar as In[11]\n",
    "cat"
   ]
  },
  {
   "cell_type": "markdown",
   "id": "916e299d",
   "metadata": {},
   "source": [
    "                                  Chapter 8"
   ]
  },
  {
   "cell_type": "code",
   "execution_count": 6,
   "id": "4ffa58cb",
   "metadata": {},
   "outputs": [
    {
     "data": {
      "text/plain": [
       "array([1, 2, 3, 4, 5, 6])"
      ]
     },
     "execution_count": 6,
     "metadata": {},
     "output_type": "execute_result"
    }
   ],
   "source": [
    "arr = np.array([1,2,3,4,5,6,3,6,1,2,4])  #this fuction is used to find unique value and to remove the repetead value \n",
    "np.unique(arr)"
   ]
  },
  {
   "cell_type": "code",
   "execution_count": 7,
   "id": "0fbbd895",
   "metadata": {},
   "outputs": [
    {
     "name": "stdout",
     "output_type": "stream",
     "text": [
      "[1 2 3 4 5 6]\n",
      "[2 2 2 2 1 2]\n"
     ]
    }
   ],
   "source": [
    "uniques,counts =np.unique(arr, return_counts=True)  #this function is used to find unique value as well as how many times this this value occurs\n",
    "print(uniques)\n",
    "print(counts)"
   ]
  },
  {
   "cell_type": "markdown",
   "id": "024e3129",
   "metadata": {},
   "source": [
    "                                  CHAPTER - 9"
   ]
  },
  {
   "cell_type": "code",
   "execution_count": 12,
   "id": "878b06ee",
   "metadata": {},
   "outputs": [
    {
     "name": "stdout",
     "output_type": "stream",
     "text": [
      "[3 4 5]\n",
      "[1 2 3 4 5 6 7]\n",
      "[1 2]\n",
      "[1 2 6 7]\n"
     ]
    }
   ],
   "source": [
    "arr1 = np.array([1,2,3,4,5])\n",
    "arr2 = np.array([3,4,5,6,7])\n",
    "print(np.intersect1d(arr1, arr2))  #common on both arr1 and arr2\n",
    "print(np.union1d(arr1, arr2))       #taken number which is common \n",
    "print(np.setdiff1d(arr1, arr2))          #whats in arry1 and not in arry2\n",
    "print(np.setxor1d(arr1, arr2))       #here, the set of number which is not repeated"
   ]
  },
  {
   "cell_type": "code",
   "execution_count": null,
   "id": "4a0a7b31",
   "metadata": {},
   "outputs": [],
   "source": []
  }
 ],
 "metadata": {
  "kernelspec": {
   "display_name": "Python 3 (ipykernel)",
   "language": "python",
   "name": "python3"
  },
  "language_info": {
   "codemirror_mode": {
    "name": "ipython",
    "version": 3
   },
   "file_extension": ".py",
   "mimetype": "text/x-python",
   "name": "python",
   "nbconvert_exporter": "python",
   "pygments_lexer": "ipython3",
   "version": "3.9.13"
  }
 },
 "nbformat": 4,
 "nbformat_minor": 5
}
